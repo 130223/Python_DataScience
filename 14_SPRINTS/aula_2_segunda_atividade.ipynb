{
  "nbformat": 4,
  "nbformat_minor": 0,
  "metadata": {
    "colab": {
      "provenance": []
    },
    "kernelspec": {
      "name": "python3",
      "display_name": "Python 3"
    },
    "language_info": {
      "name": "python"
    }
  },
  "cells": [
    {
      "cell_type": "code",
      "source": [
        "totalHoras=int(input('digite a quantidade de de aulas: '))"
      ],
      "metadata": {
        "id": "Wk5KDWCgY9CS"
      },
      "execution_count": null,
      "outputs": []
    },
    {
      "cell_type": "code",
      "execution_count": null,
      "metadata": {
        "id": "KFv25ymDWdOq"
      },
      "outputs": [],
      "source": [
        "totalFaltas=(totalHoras*25)/100"
      ]
    },
    {
      "cell_type": "code",
      "source": [
        "print(totalHoras)"
      ],
      "metadata": {
        "id": "Ul6KrcCMplQb"
      },
      "execution_count": null,
      "outputs": []
    },
    {
      "cell_type": "code",
      "source": [
        "Qtdfaltas=float(in)"
      ],
      "metadata": {
        "id": "6MOn00gnqAV5"
      },
      "execution_count": null,
      "outputs": []
    }
  ]
}