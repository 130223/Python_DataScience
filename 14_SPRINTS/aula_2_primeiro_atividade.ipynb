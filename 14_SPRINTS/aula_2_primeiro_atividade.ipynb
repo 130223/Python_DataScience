{
  "nbformat": 4,
  "nbformat_minor": 0,
  "metadata": {
    "colab": {
      "provenance": []
    },
    "kernelspec": {
      "name": "python3",
      "display_name": "Python 3"
    },
    "language_info": {
      "name": "python"
    }
  },
  "cells": [
    {
      "cell_type": "code",
      "execution_count": null,
      "metadata": {
        "colab": {
          "base_uri": "https://localhost:8080/"
        },
        "id": "LR6VNtW2LyzZ",
        "outputId": "c68b79c4-2f88-4c48-d289-846c97c82bf8"
      },
      "outputs": [
        {
          "name": "stdout",
          "output_type": "stream",
          "text": [
            "digite a temperatura: 12\n"
          ]
        }
      ],
      "source": [
        "#Definindo a temperatura\n",
        "temp=int(input('digite a temperatura: '))"
      ]
    },
    {
      "cell_type": "code",
      "source": [
        "#avaliar se temperatura\n",
        "if temp <10:\n",
        "  print('está frio! :(')\n",
        "elif temp >=10 and temp <=20:\n",
        "    print('está frio, mas dá :')\n",
        "elif temp >=20 and temp <27:\n",
        "      print('agora sim!')\n",
        " else:\n",
        "     print('está muito quente')"
      ],
      "metadata": {
        "id": "pkBBNIxsMGNb"
      },
      "execution_count": null,
      "outputs": []
    }
  ]
}