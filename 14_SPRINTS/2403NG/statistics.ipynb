{
  "nbformat": 4,
  "nbformat_minor": 0,
  "metadata": {
    "colab": {
      "provenance": []
    },
    "kernelspec": {
      "name": "python3",
      "display_name": "Python 3"
    },
    "language_info": {
      "name": "python"
    }
  },
  "cells": [
    {
      "cell_type": "code",
      "execution_count": null,
      "metadata": {
        "id": "Ljm9HavltRsB"
      },
      "outputs": [],
      "source": [
        "import statistics as st\n",
        "import math as mt\n",
        "dados = [10, 15, 20, 25, 30, 35, 40, 45, 50]"
      ]
    },
    {
      "cell_type": "code",
      "source": [
        "#Soma de todos elementos dividido pela quantidade de elementos dividido pela quantidade de elementos\n",
        "media = st.mean(dados)"
      ],
      "metadata": {
        "id": "j8-ZeQhst0sE"
      },
      "execution_count": null,
      "outputs": []
    },
    {
      "cell_type": "code",
      "source": [
        "#Mediana\n",
        "mediana = st.median(dados)"
      ],
      "metadata": {
        "id": "dtRuwsNOvYq8"
      },
      "execution_count": null,
      "outputs": []
    },
    {
      "cell_type": "code",
      "source": [
        "#Moda\n",
        "moda = st.mode(dados)"
      ],
      "metadata": {
        "id": "uNZlFv0XzfC2"
      },
      "execution_count": null,
      "outputs": []
    },
    {
      "cell_type": "code",
      "source": [
        "print('Conjunto de dados', dados)\n",
        "print('Média:', media)\n",
        "print('Mediana:', mediana)\n",
        "print('Moda:', moda)"
      ],
      "metadata": {
        "colab": {
          "base_uri": "https://localhost:8080/"
        },
        "id": "ThPVkMCz0u6P",
        "outputId": "485bbdf2-0ef3-4818-b057-b87d90c2531a"
      },
      "execution_count": null,
      "outputs": [
        {
          "output_type": "stream",
          "name": "stdout",
          "text": [
            "Conjunto de dados [10, 15, 20, 25, 30, 35, 40, 45, 50]\n",
            "Média: 30\n",
            "Mediana: 30\n",
            "Moda: 10\n"
          ]
        }
      ]
    },
    {
      "cell_type": "markdown",
      "source": [
        "EXERCISE NUMB 2"
      ],
      "metadata": {
        "id": "rTfns41w2TrR"
      }
    },
    {
      "cell_type": "code",
      "source": [
        "import statistics as st\n",
        "notas = [7.5, 8.2, 6.9, 9.5, 5.8, 7.1, 8.6, 6.3, 9.0, 8.8]"
      ],
      "metadata": {
        "id": "cEEN2QWk2ZCg"
      },
      "execution_count": null,
      "outputs": []
    },
    {
      "cell_type": "code",
      "source": [
        "#a medida que vc se distancia da amostra, aumenta a margem de erro\n",
        "#se vc reduz a população ou quantidade, aumenta sua margem de erro"
      ],
      "metadata": {
        "id": "6RHBEG-u96CR"
      },
      "execution_count": null,
      "outputs": []
    },
    {
      "cell_type": "code",
      "source": [
        "#Media\n",
        "media = st.mean(notas)"
      ],
      "metadata": {
        "id": "WNx1pikX98Y-"
      },
      "execution_count": null,
      "outputs": []
    },
    {
      "cell_type": "code",
      "source": [
        "#Mediana\n",
        "mediana = st.median(notas)"
      ],
      "metadata": {
        "id": "s0T8sBv9-Dsw"
      },
      "execution_count": null,
      "outputs": []
    },
    {
      "cell_type": "code",
      "source": [
        "#Moda\n",
        "moda = st.mode(notas)"
      ],
      "metadata": {
        "id": "Uw2Lb96g-dch"
      },
      "execution_count": null,
      "outputs": []
    },
    {
      "cell_type": "code",
      "source": [
        "#Desvio Padrao\n",
        "desvio_padrao = st.stdev(notas)"
      ],
      "metadata": {
        "id": "77HuEnQX-euO"
      },
      "execution_count": null,
      "outputs": []
    },
    {
      "cell_type": "code",
      "source": [
        "print('Listagem das Notas:', notas)\n",
        "print('Valor da média:', media)\n",
        "print('Mediana:', mediana)\n",
        "print('Moda:', moda)\n",
        "print('Valor do desvio padrão:', desvio_padrao)"
      ],
      "metadata": {
        "colab": {
          "base_uri": "https://localhost:8080/"
        },
        "id": "ndafW6yU-0N5",
        "outputId": "084ba1c5-0858-497b-b215-b2ce799d458e"
      },
      "execution_count": null,
      "outputs": [
        {
          "output_type": "stream",
          "name": "stdout",
          "text": [
            "Listagem das Notas: [7.5, 8.2, 6.9, 9.5, 5.8, 7.1, 8.6, 6.3, 9.0, 8.8]\n",
            "Valor da média: 7.77\n",
            "Mediana: 7.85\n",
            "Moda: 7.5\n",
            "Valor do desvio padrão: 1.2365273955719704\n"
          ]
        }
      ]
    },
    {
      "cell_type": "markdown",
      "source": [
        "EXERCISE NUMBER 3 = CORRELAÇÃO"
      ],
      "metadata": {
        "id": "fgUAIUvzBNZX"
      }
    },
    {
      "cell_type": "code",
      "source": [
        "import statistics as st"
      ],
      "metadata": {
        "id": "V6DtDb99CWw-"
      },
      "execution_count": null,
      "outputs": []
    },
    {
      "cell_type": "code",
      "source": [
        "horas_estudo =[5, 7, 3, 8, 6, 4, 9, 5, 7, 6]"
      ],
      "metadata": {
        "id": "F9LDXHqaC0Cc"
      },
      "execution_count": null,
      "outputs": []
    },
    {
      "cell_type": "code",
      "source": [
        "notas = [75, 85, 60, 90, 80, 70, 95, 75, 85, 80]"
      ],
      "metadata": {
        "id": "Ln7zGHS-Cn0n"
      },
      "execution_count": null,
      "outputs": []
    },
    {
      "cell_type": "code",
      "source": [
        "#Calcul correlacao entre duas variaveis\n",
        "correlacao = st.correlation(horas_estudo, notas)"
      ],
      "metadata": {
        "id": "OmTRDJvmCqh0"
      },
      "execution_count": null,
      "outputs": []
    },
    {
      "cell_type": "code",
      "source": [
        "print(correlacao)"
      ],
      "metadata": {
        "colab": {
          "base_uri": "https://localhost:8080/"
        },
        "id": "UkJUX5sEC-sK",
        "outputId": "5245c9f1-5868-4a9d-f6e8-933b03954612"
      },
      "execution_count": null,
      "outputs": [
        {
          "output_type": "stream",
          "name": "stdout",
          "text": [
            "0.9918365981341755\n"
          ]
        }
      ]
    },
    {
      "cell_type": "markdown",
      "source": [
        "EXERCISE NUMBER 4 . Imagine que você está estudando o tempo que leva para os\n",
        "alunos/funcionários chegarem ao SENAI e qual seria o meio de trasnporte\n",
        "a. Metrô/Trem\n",
        "b. Carro\n",
        "c. Moto\n",
        "d. Outro\n",
        "Anote o tempo (em minutos) que cada aluno leva para chegar\n",
        "à escola e:\n",
        "a. Metrô/Trem\n",
        "b. Carro\n",
        "c. Moto\n",
        "d. Outro\n",
        "e.tempo mediano que os alunos levam para chegar à escola.\n",
        "f.Comente se poderia ter diferença nestes tempos estaria correto ou não incluir\n",
        "o tempo mediano\n"
      ],
      "metadata": {
        "id": "dd2NVuOT3kvY"
      }
    },
    {
      "cell_type": "code",
      "source": [
        "import statistics as st"
      ],
      "metadata": {
        "id": "EGy8fpV3P_V5"
      },
      "execution_count": null,
      "outputs": []
    },
    {
      "cell_type": "code",
      "source": [
        "import math as mt"
      ],
      "metadata": {
        "id": "ebotPaESQLEP"
      },
      "execution_count": null,
      "outputs": []
    },
    {
      "cell_type": "code",
      "source": [
        "minutos_viagem = [98, 70, 80, 60, 120, 80, 110, 120, 15, 40, 80, 100, 120, 20, 30, 35]"
      ],
      "metadata": {
        "id": "1nJjyNUmQMoK"
      },
      "execution_count": null,
      "outputs": []
    },
    {
      "cell_type": "code",
      "source": [
        "#Relacao dos meios transporte\n",
        "metro = 1\n",
        "trem = 2\n",
        "onibus = 3\n",
        "carro = 4\n",
        "moto = 5\n",
        "ape = 6"
      ],
      "metadata": {
        "id": "0HnUPI6lQOjc"
      },
      "execution_count": null,
      "outputs": []
    },
    {
      "cell_type": "code",
      "source": [
        "meios_transporte = [trem, carro, onibus, metro, trem, carro, trem, onibus, ape, metro, trem, moto, carro, ape, ape, trem]"
      ],
      "metadata": {
        "id": "0EiupVrAQQnv"
      },
      "execution_count": null,
      "outputs": []
    },
    {
      "cell_type": "code",
      "source": [
        "#Correlacao\n",
        "correlacao = st.correlation(minutos_viagem, meios_transporte)"
      ],
      "metadata": {
        "id": "c6TIgdhaQS5R"
      },
      "execution_count": null,
      "outputs": []
    },
    {
      "cell_type": "code",
      "source": [
        "print('O valor de correlacao é de:', correlacao)"
      ],
      "metadata": {
        "colab": {
          "base_uri": "https://localhost:8080/"
        },
        "id": "t5wphQY_QWLq",
        "outputId": "813c3923-4531-4e80-d86f-26b8b01f5550"
      },
      "execution_count": null,
      "outputs": [
        {
          "output_type": "stream",
          "name": "stdout",
          "text": [
            "O valor de correlacao é de: -0.3610729137794502\n"
          ]
        }
      ]
    },
    {
      "cell_type": "markdown",
      "source": [
        "AGORA VAMOS ACHAR O TEMPO MEDIANO"
      ],
      "metadata": {
        "id": "PmKp6FLHQZp_"
      }
    },
    {
      "cell_type": "code",
      "source": [
        "#Media\n",
        "media = st.mean(minutos_viagem)"
      ],
      "metadata": {
        "id": "vG-LkmhrQijv"
      },
      "execution_count": null,
      "outputs": []
    },
    {
      "cell_type": "code",
      "source": [
        "#Mediana\n",
        "mediana = st.median(minutos_viagem)"
      ],
      "metadata": {
        "id": "FAw_RR8oQlde"
      },
      "execution_count": null,
      "outputs": []
    },
    {
      "cell_type": "code",
      "source": [
        "#Moda\n",
        "moda = st.mode(meios_transporte)"
      ],
      "metadata": {
        "id": "2ANuWes7Qn54"
      },
      "execution_count": null,
      "outputs": []
    },
    {
      "cell_type": "code",
      "source": [
        "#Desvio Padrao\n",
        "desvio_padrao = st.stdev(minutos_viagem)"
      ],
      "metadata": {
        "id": "fUzWU6NDQpqm"
      },
      "execution_count": null,
      "outputs": []
    },
    {
      "cell_type": "code",
      "source": [
        "print(f\"O tempo medio que levam para chegar no Senai é de:', {media:.2f} minutos\")\n",
        "print(\"\\n\")\n",
        "print('A mediana de tempo é:', mediana)\n",
        "print('O tempo pra chegar ao Senai que mais se repete é:', moda)\n",
        "print('O valor de desvio padrão é:', desvio_padrao)"
      ],
      "metadata": {
        "colab": {
          "base_uri": "https://localhost:8080/"
        },
        "id": "7zzbaCnOQriB",
        "outputId": "1642a415-795a-461d-bc23-809b502b420e"
      },
      "execution_count": null,
      "outputs": [
        {
          "output_type": "stream",
          "name": "stdout",
          "text": [
            "O tempo medio que levam para chegar no Senai é de:', 73.62 minutos\n",
            "\n",
            "\n",
            "A mediana de tempo é: 80.0\n",
            "O tempo pra chegar ao Senai que mais se repete é: 2\n",
            "O valor de desvio padrão é: 36.718523935474316\n"
          ]
        }
      ]
    },
    {
      "cell_type": "code",
      "source": [],
      "metadata": {
        "id": "aiQZI0JpQti-"
      },
      "execution_count": null,
      "outputs": []
    }
  ]
}