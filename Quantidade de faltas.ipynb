{
  "nbformat": 4,
  "nbformat_minor": 0,
  "metadata": {
    "colab": {
      "provenance": [],
      "authorship_tag": "ABX9TyPkYXRG2mxhsXdykAZ0aRjE",
      "include_colab_link": true
    },
    "kernelspec": {
      "name": "python3",
      "display_name": "Python 3"
    },
    "language_info": {
      "name": "python"
    }
  },
  "cells": [
    {
      "cell_type": "markdown",
      "metadata": {
        "id": "view-in-github",
        "colab_type": "text"
      },
      "source": [
        "<a href=\"https://colab.research.google.com/github/Thairamoss/Python_DataScience/blob/main/Quantidade%20de%20faltas.ipynb\" target=\"_parent\"><img src=\"https://colab.research.google.com/assets/colab-badge.svg\" alt=\"Open In Colab\"/></a>"
      ]
    },
    {
      "cell_type": "code",
      "execution_count": 4,
      "metadata": {
        "colab": {
          "base_uri": "https://localhost:8080/"
        },
        "id": "ryYszfQYo9gR",
        "outputId": "9a6153ea-00aa-4438-e892-bdd3ffa2d2f3"
      },
      "outputs": [
        {
          "name": "stdout",
          "output_type": "stream",
          "text": [
            "Digite a quantidade de horas do curso 60\n"
          ]
        }
      ],
      "source": [
        "totalhoras=float(input('Digite a quantidade de horas do curso '))\n"
      ]
    },
    {
      "cell_type": "code",
      "source": [
        "Totalfaltas=(totalhoras*25)/100\n",
        "\n",
        "\n"
      ],
      "metadata": {
        "id": "qSuWwwlrqG8U"
      },
      "execution_count": 9,
      "outputs": []
    },
    {
      "cell_type": "code",
      "source": [
        "print(Totalfaltas)"
      ],
      "metadata": {
        "colab": {
          "base_uri": "https://localhost:8080/"
        },
        "id": "kqEZVqqzvdpX",
        "outputId": "5bdcc681-0b7f-4dde-a403-9a4fd549e526"
      },
      "execution_count": 10,
      "outputs": [
        {
          "output_type": "stream",
          "name": "stdout",
          "text": [
            "15.0\n"
          ]
        }
      ]
    },
    {
      "cell_type": "code",
      "source": [
        "qtdfaltas=float(input('Digite a quantidade de horas que você faltou: '))\n"
      ],
      "metadata": {
        "colab": {
          "base_uri": "https://localhost:8080/"
        },
        "id": "HtCgeXCUqMbr",
        "outputId": "0621f602-afab-4d61-c87e-a670f430ea20"
      },
      "execution_count": 12,
      "outputs": [
        {
          "name": "stdout",
          "output_type": "stream",
          "text": [
            "Digite a quantidade de horas que você faltou: 1\n"
          ]
        }
      ]
    },
    {
      "cell_type": "code",
      "source": [
        "if  qtdfaltas <= Totalfaltas:\n",
        "  print('você está aprovado, boa sorte! As faltas permitidas são', Totalfaltas)\n",
        "else:\n",
        "  print('reprovado')"
      ],
      "metadata": {
        "colab": {
          "base_uri": "https://localhost:8080/"
        },
        "id": "EIg4P3sSqOyS",
        "outputId": "4cacb6ef-c2bc-4e9f-cdc6-a36c72979e1c"
      },
      "execution_count": 16,
      "outputs": [
        {
          "output_type": "stream",
          "name": "stdout",
          "text": [
            "você está aprovado, boa sorte! As faltas permitidas são 15.0\n"
          ]
        }
      ]
    }
  ]
}