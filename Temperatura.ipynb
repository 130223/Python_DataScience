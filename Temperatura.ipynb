{
  "nbformat": 4,
  "nbformat_minor": 0,
  "metadata": {
    "colab": {
      "provenance": [],
      "authorship_tag": "ABX9TyNMTzHu5L2KenoFDYHvEB+s",
      "include_colab_link": true
    },
    "kernelspec": {
      "name": "python3",
      "display_name": "Python 3"
    },
    "language_info": {
      "name": "python"
    }
  },
  "cells": [
    {
      "cell_type": "markdown",
      "metadata": {
        "id": "view-in-github",
        "colab_type": "text"
      },
      "source": [
        "<a href=\"https://colab.research.google.com/github/Thairamoss/Python_DataScience/blob/main/Temperatura.ipynb\" target=\"_parent\"><img src=\"https://colab.research.google.com/assets/colab-badge.svg\" alt=\"Open In Colab\"/></a>"
      ]
    },
    {
      "cell_type": "code",
      "execution_count": null,
      "metadata": {
        "id": "ToZWAQ80L_LS"
      },
      "outputs": [],
      "source": [
        "#defininfo temperatura"
      ]
    },
    {
      "cell_type": "code",
      "source": [
        "temp= int(input('Digite a tempertura: '))"
      ],
      "metadata": {
        "id": "-vNxRgM8QJT4"
      },
      "execution_count": null,
      "outputs": []
    },
    {
      "cell_type": "code",
      "source": [
        "#avaliar se a temperatura está ok"
      ],
      "metadata": {
        "id": "IvdJOBEBQVRW"
      },
      "execution_count": null,
      "outputs": []
    },
    {
      "cell_type": "code",
      "source": [],
      "metadata": {
        "id": "KA3sRl4bo7LQ"
      },
      "execution_count": null,
      "outputs": []
    },
    {
      "cell_type": "code",
      "source": [
        "if temp<10:\n",
        " print('muito frio')\n",
        "elif temp>=10 and temp<20:\n",
        " print('esta frio mas dá')\n",
        "elif temp>=20 and temp<27:\n",
        "  print('agora sim')\n",
        "else:\n",
        "  print('está muito quente')"
      ],
      "metadata": {
        "colab": {
          "base_uri": "https://localhost:8080/"
        },
        "id": "GQjr9b01QecD",
        "outputId": "d2276ab2-b699-4d66-8a72-7798ae5e8c6d"
      },
      "execution_count": 13,
      "outputs": [
        {
          "output_type": "stream",
          "name": "stdout",
          "text": [
            "agora sim\n"
          ]
        }
      ]
    }
  ]
}